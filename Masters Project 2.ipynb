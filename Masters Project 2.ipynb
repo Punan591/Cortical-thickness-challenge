{
 "cells": [
  {
   "cell_type": "code",
   "execution_count": 39,
   "metadata": {},
   "outputs": [],
   "source": [
    "import numpy as np\n",
    "import matplotlib.pyplot as plt\n",
    "import nibabel as nib\n",
    "from skimage import filters\n",
    "from skimage import morphology\n",
    "import math\n",
    "from scipy import spatial\n",
    "%matplotlib qt"
   ]
  },
  {
   "cell_type": "code",
   "execution_count": null,
   "metadata": {
    "collapsed": true
   },
   "outputs": [],
   "source": [
    "# Loading the raw t1 map for subject 1 and the resulting thickness map\n",
    "t1 = nib.load('raw_t1_subject_02.nii').get_fdata()\n",
    "t1map = nib.load('thickness_map_subject_01.nii').get_fdata()\n",
    "\n",
    "plt.imshow(t1map[:,128,:])\n"
   ]
  },
  {
   "cell_type": "code",
   "execution_count": null,
   "metadata": {
    "collapsed": true
   },
   "outputs": [],
   "source": [
    "# Applying a filter to the image to make segmentation easier\n",
    "filt_t1 = filters.gaussian(t1,sigma=1)\n",
    "plt.imshow(filt_t1[:,128,:])"
   ]
  },
  {
   "cell_type": "code",
   "execution_count": 48,
   "metadata": {
    "scrolled": true
   },
   "outputs": [],
   "source": [
    "# Finding the white matter surface \n",
    "\n",
    "wm = filt_t1 > 75       # Isolating the white matter \n",
    "\n",
    "med_wm = filters.median(wm)     # Applying a median filter \n",
    "\n",
    "dilw = morphology.binary_dilation(med_wm)   # Dilating the white mater\n",
    "\n",
    "edge_wm = dilw.astype(float) - med_wm  # Substracting the white matter from the dilation to get the surface\n",
    "\n",
    "#plt.imshow(wm[:,128,:])\n",
    "#plt.imshow(med_wm[:,128,:])\n",
    "#plt.imshow(edge_wm[:,128,:])"
   ]
  },
  {
   "cell_type": "code",
   "execution_count": 49,
   "metadata": {},
   "outputs": [],
   "source": [
    "# Finding the gray matter surface \n",
    "\n",
    "gm = (filt_t1 < 75) & (filt_t1 > 55)    # Isolating the gray matter \n",
    "\n",
    "gm = gm.astype(float)           # Converting gray matter into float values\n",
    "\n",
    "med_gm = filters.median(gm)    # Applying a median filter \n",
    "\n",
    "dilg = morphology.binary_dilation(med_gm)   # Dilating the gray mater\n",
    "\n",
    "edge_gm = dilg.astype(float) - med_gm    # Substracting the gray matter from the dilation to get the surface\n",
    "\n",
    "#plt.imshow(gm[:,128,:])\n",
    "#plt.imshow(med_gm[:,128,:])\n",
    "#plt.imshow(edge_gm[:,128,:])"
   ]
  },
  {
   "cell_type": "code",
   "execution_count": null,
   "metadata": {
    "collapsed": true
   },
   "outputs": [],
   "source": [
    "# Getting the outer edge of the gray matter (pial surface)\n",
    "\n",
    "dilw2 = morphology.binary_dilation(edge_wm)  # Dilating the white matter surface\n",
    "\n",
    "fedge_gm = edge_gm.astype(float) - dilw2 # Substracting the white matter surface from the gray matter surface to get only the outer surface\n",
    "\n",
    "fedge_gm2 = fedge_gm > 0  # Inverting the image to get rid of negative values\n",
    "\n",
    "final = edge_wm + fedge_gm2 # Combining both surfaces\n",
    "\n",
    "#plt.imshow(dilw2[:,128,:])\n",
    "#plt.imshow(fedge_gm[:,128,:])\n",
    "#plt.imshow(fedge_gm2[:,128,:])\n",
    "#plt.imshow(final[:,128,:])"
   ]
  },
  {
   "cell_type": "code",
   "execution_count": null,
   "metadata": {
    "collapsed": true
   },
   "outputs": [],
   "source": [
    "# Getting arrays of non zero coordinates for white and gray matter edges\n",
    "n0_wm = np.argwhere(edge_wm == 1)\n",
    "n0_gm = np.argwhere(fedge_gm2 == 1)\n",
    "n0_wm.shape"
   ]
  },
  {
   "cell_type": "code",
   "execution_count": null,
   "metadata": {
    "collapsed": true
   },
   "outputs": [],
   "source": [
    "# Finding the distance between white and gray matter boundaries and \n",
    "# assigning the distance value to each white matter boundary point\n",
    "for x in range(n0_wm.shape[0]):\n",
    "    dists = np.sqrt(np.sum((n0_wm[x,:] - n0_gm)**2, axis=1))\n",
    "    mindists = np.min(dists)\n",
    "    edge_wm[n0_wm[x,0],n0_wm[x,1],n0_wm[x,2]] = mindists \n",
    "    #print(x)"
   ]
  },
  {
   "cell_type": "code",
   "execution_count": null,
   "metadata": {
    "collapsed": true
   },
   "outputs": [],
   "source": [
    "plt.imshow(edge_wm[:,128,:])"
   ]
  },
  {
   "cell_type": "code",
   "execution_count": null,
   "metadata": {
    "collapsed": true
   },
   "outputs": [],
   "source": [
    "n0_gmfull = np.argwhere(gm == 1)\n",
    "n0_gmfull.shape"
   ]
  },
  {
   "cell_type": "code",
   "execution_count": null,
   "metadata": {
    "collapsed": true
   },
   "outputs": [],
   "source": [
    "for x in range(n0_gmfull.shape[0]):\n",
    "    point = n0_gmfull[x,:]\n",
    "    #print(point)\n",
    "    close = n0_wm[spatial.KDTree(n0_wm).query(point, distance_upper_bound=50)[1]]\n",
    "    #print(close)\n",
    "    gm[point[0],point[1],point[2]] = edge_wm[close[0],close[1],close[2]]\n",
    "    #print(x)"
   ]
  },
  {
   "cell_type": "code",
   "execution_count": null,
   "metadata": {},
   "outputs": [],
   "source": [
    "plt.imshow(gm[:,128,:])"
   ]
  }
 ],
 "metadata": {
  "kernelspec": {
   "display_name": "Python 3",
   "language": "python",
   "name": "python3"
  },
  "language_info": {
   "codemirror_mode": {
    "name": "ipython",
    "version": 3
   },
   "file_extension": ".py",
   "mimetype": "text/x-python",
   "name": "python",
   "nbconvert_exporter": "python",
   "pygments_lexer": "ipython3",
   "version": "3.8.3"
  }
 },
 "nbformat": 4,
 "nbformat_minor": 4
}
